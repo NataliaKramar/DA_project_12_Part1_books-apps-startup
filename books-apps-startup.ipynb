{
 "cells": [
  {
   "cell_type": "markdown",
   "metadata": {},
   "source": [
    "## SQL Project description\n",
    "\n",
    "The coronavirus took the entire world by surprise, changing everyone's daily routine. City dwellers no longer spent their free time outside, going to cafes and malls; more people were home, reading books. That attracted the attention of startups that rushed to develop new apps for book lovers.\n",
    "We have a database of one of the services competing in this market. It contains data on books, publishers, authors, and customer ratings and reviews of books. This information will be used to generate a value proposition for a new product.\n"
   ]
  },
  {
   "cell_type": "markdown",
   "metadata": {},
   "source": [
    "### Describe the goals of the study."
   ]
  },
  {
   "cell_type": "markdown",
   "metadata": {},
   "source": [
    "The goals of analysis are:\n",
    "1. Studing the data about books, publishers, authors, and customer ratings and reviews of books.\n",
    "2. Finding the most popular publishers.\n",
    "3. Identifying the best authors based on high rating\n",
    "4. Counting the average text reviews for for frequently commenting users.\n",
    "5. Making suggestions.\n"
   ]
  },
  {
   "cell_type": "markdown",
   "metadata": {},
   "source": [
    "### Study the tables (print the first rows)."
   ]
  },
  {
   "cell_type": "code",
   "execution_count": 1,
   "metadata": {},
   "outputs": [],
   "source": [
    "\n",
    "# import libraries\n",
    "import pandas as pd\n",
    "import matplotlib.pyplot as plt\n",
    "from sqlalchemy import create_engine\n",
    "\n",
    "db_config = {'user': 'practicum_student',         # username\n",
    "             'pwd': 's65BlTKV3faNIGhmvJVzOqhs', # password\n",
    "             'host': 'rc1b-wcoijxj3yxfsf3fs.mdb.yandexcloud.net',\n",
    "             'port': 6432,              # connection port\n",
    "             'db': 'data-analyst-final-project-db'}          # the name of the database\n",
    "\n",
    "connection_string = 'postgresql://{}:{}@{}:{}/{}'.format(db_config['user'],\n",
    "                                                                     db_config['pwd'],\n",
    "                                                                       db_config['host'],\n",
    "                                                                       db_config['port'],\n",
    "                                                                       db_config['db'])\n",
    "\n",
    "engine = create_engine(connection_string, connect_args={'sslmode':'require'})\n"
   ]
  },
  {
   "cell_type": "code",
   "execution_count": 2,
   "metadata": {
    "scrolled": false
   },
   "outputs": [
    {
     "data": {
      "text/html": [
       "<div>\n",
       "<style scoped>\n",
       "    .dataframe tbody tr th:only-of-type {\n",
       "        vertical-align: middle;\n",
       "    }\n",
       "\n",
       "    .dataframe tbody tr th {\n",
       "        vertical-align: top;\n",
       "    }\n",
       "\n",
       "    .dataframe thead th {\n",
       "        text-align: right;\n",
       "    }\n",
       "</style>\n",
       "<table border=\"1\" class=\"dataframe\">\n",
       "  <thead>\n",
       "    <tr style=\"text-align: right;\">\n",
       "      <th></th>\n",
       "      <th>book_id</th>\n",
       "      <th>author_id</th>\n",
       "      <th>title</th>\n",
       "      <th>num_pages</th>\n",
       "      <th>publication_date</th>\n",
       "      <th>publisher_id</th>\n",
       "    </tr>\n",
       "  </thead>\n",
       "  <tbody>\n",
       "    <tr>\n",
       "      <td>0</td>\n",
       "      <td>1</td>\n",
       "      <td>546</td>\n",
       "      <td>'Salem's Lot</td>\n",
       "      <td>594</td>\n",
       "      <td>2005-11-01</td>\n",
       "      <td>93</td>\n",
       "    </tr>\n",
       "    <tr>\n",
       "      <td>1</td>\n",
       "      <td>2</td>\n",
       "      <td>465</td>\n",
       "      <td>1 000 Places to See Before You Die</td>\n",
       "      <td>992</td>\n",
       "      <td>2003-05-22</td>\n",
       "      <td>336</td>\n",
       "    </tr>\n",
       "    <tr>\n",
       "      <td>2</td>\n",
       "      <td>3</td>\n",
       "      <td>407</td>\n",
       "      <td>13 Little Blue Envelopes (Little Blue Envelope...</td>\n",
       "      <td>322</td>\n",
       "      <td>2010-12-21</td>\n",
       "      <td>135</td>\n",
       "    </tr>\n",
       "    <tr>\n",
       "      <td>3</td>\n",
       "      <td>4</td>\n",
       "      <td>82</td>\n",
       "      <td>1491: New Revelations of the Americas Before C...</td>\n",
       "      <td>541</td>\n",
       "      <td>2006-10-10</td>\n",
       "      <td>309</td>\n",
       "    </tr>\n",
       "    <tr>\n",
       "      <td>4</td>\n",
       "      <td>5</td>\n",
       "      <td>125</td>\n",
       "      <td>1776</td>\n",
       "      <td>386</td>\n",
       "      <td>2006-07-04</td>\n",
       "      <td>268</td>\n",
       "    </tr>\n",
       "  </tbody>\n",
       "</table>\n",
       "</div>"
      ],
      "text/plain": [
       "   book_id  author_id                                              title  \\\n",
       "0        1        546                                       'Salem's Lot   \n",
       "1        2        465                 1 000 Places to See Before You Die   \n",
       "2        3        407  13 Little Blue Envelopes (Little Blue Envelope...   \n",
       "3        4         82  1491: New Revelations of the Americas Before C...   \n",
       "4        5        125                                               1776   \n",
       "\n",
       "   num_pages publication_date  publisher_id  \n",
       "0        594       2005-11-01            93  \n",
       "1        992       2003-05-22           336  \n",
       "2        322       2010-12-21           135  \n",
       "3        541       2006-10-10           309  \n",
       "4        386       2006-07-04           268  "
      ]
     },
     "execution_count": 2,
     "metadata": {},
     "output_type": "execute_result"
    }
   ],
   "source": [
    "query = ''' SELECT \n",
    "                *\n",
    "            FROM books\n",
    "            LIMIT 10'''\n",
    "books = pd.io.sql.read_sql(query, con = engine)\n",
    "books.head()"
   ]
  },
  {
   "cell_type": "markdown",
   "metadata": {},
   "source": [
    "In the table \"books\" we can find 6 columns with information about book id, author id, number of pages in the books, publication date and publisher id. The primary key of the table is book_id."
   ]
  },
  {
   "cell_type": "code",
   "execution_count": 3,
   "metadata": {
    "scrolled": true
   },
   "outputs": [
    {
     "data": {
      "text/html": [
       "<div>\n",
       "<style scoped>\n",
       "    .dataframe tbody tr th:only-of-type {\n",
       "        vertical-align: middle;\n",
       "    }\n",
       "\n",
       "    .dataframe tbody tr th {\n",
       "        vertical-align: top;\n",
       "    }\n",
       "\n",
       "    .dataframe thead th {\n",
       "        text-align: right;\n",
       "    }\n",
       "</style>\n",
       "<table border=\"1\" class=\"dataframe\">\n",
       "  <thead>\n",
       "    <tr style=\"text-align: right;\">\n",
       "      <th></th>\n",
       "      <th>author_id</th>\n",
       "      <th>author</th>\n",
       "    </tr>\n",
       "  </thead>\n",
       "  <tbody>\n",
       "    <tr>\n",
       "      <td>0</td>\n",
       "      <td>1</td>\n",
       "      <td>A.S. Byatt</td>\n",
       "    </tr>\n",
       "    <tr>\n",
       "      <td>1</td>\n",
       "      <td>2</td>\n",
       "      <td>Aesop/Laura Harris/Laura Gibbs</td>\n",
       "    </tr>\n",
       "    <tr>\n",
       "      <td>2</td>\n",
       "      <td>3</td>\n",
       "      <td>Agatha Christie</td>\n",
       "    </tr>\n",
       "    <tr>\n",
       "      <td>3</td>\n",
       "      <td>4</td>\n",
       "      <td>Alan Brennert</td>\n",
       "    </tr>\n",
       "    <tr>\n",
       "      <td>4</td>\n",
       "      <td>5</td>\n",
       "      <td>Alan Moore/David   Lloyd</td>\n",
       "    </tr>\n",
       "  </tbody>\n",
       "</table>\n",
       "</div>"
      ],
      "text/plain": [
       "   author_id                          author\n",
       "0          1                      A.S. Byatt\n",
       "1          2  Aesop/Laura Harris/Laura Gibbs\n",
       "2          3                 Agatha Christie\n",
       "3          4                   Alan Brennert\n",
       "4          5        Alan Moore/David   Lloyd"
      ]
     },
     "execution_count": 3,
     "metadata": {},
     "output_type": "execute_result"
    }
   ],
   "source": [
    "query = ''' SELECT \n",
    "                *\n",
    "            FROM authors\n",
    "            LIMIT 10'''\n",
    "authors = pd.io.sql.read_sql(query, con = engine)\n",
    "authors.head()\n"
   ]
  },
  {
   "cell_type": "markdown",
   "metadata": {},
   "source": [
    "In the table \"authors\" we see 2 columns with information about authors an their id's. The primary key of the table is author_id."
   ]
  },
  {
   "cell_type": "code",
   "execution_count": 4,
   "metadata": {
    "scrolled": true
   },
   "outputs": [
    {
     "data": {
      "text/html": [
       "<div>\n",
       "<style scoped>\n",
       "    .dataframe tbody tr th:only-of-type {\n",
       "        vertical-align: middle;\n",
       "    }\n",
       "\n",
       "    .dataframe tbody tr th {\n",
       "        vertical-align: top;\n",
       "    }\n",
       "\n",
       "    .dataframe thead th {\n",
       "        text-align: right;\n",
       "    }\n",
       "</style>\n",
       "<table border=\"1\" class=\"dataframe\">\n",
       "  <thead>\n",
       "    <tr style=\"text-align: right;\">\n",
       "      <th></th>\n",
       "      <th>publisher_id</th>\n",
       "      <th>publisher</th>\n",
       "    </tr>\n",
       "  </thead>\n",
       "  <tbody>\n",
       "    <tr>\n",
       "      <td>0</td>\n",
       "      <td>1</td>\n",
       "      <td>Ace</td>\n",
       "    </tr>\n",
       "    <tr>\n",
       "      <td>1</td>\n",
       "      <td>2</td>\n",
       "      <td>Ace Book</td>\n",
       "    </tr>\n",
       "    <tr>\n",
       "      <td>2</td>\n",
       "      <td>3</td>\n",
       "      <td>Ace Books</td>\n",
       "    </tr>\n",
       "    <tr>\n",
       "      <td>3</td>\n",
       "      <td>4</td>\n",
       "      <td>Ace Hardcover</td>\n",
       "    </tr>\n",
       "    <tr>\n",
       "      <td>4</td>\n",
       "      <td>5</td>\n",
       "      <td>Addison Wesley Publishing Company</td>\n",
       "    </tr>\n",
       "  </tbody>\n",
       "</table>\n",
       "</div>"
      ],
      "text/plain": [
       "   publisher_id                          publisher\n",
       "0             1                                Ace\n",
       "1             2                           Ace Book\n",
       "2             3                          Ace Books\n",
       "3             4                      Ace Hardcover\n",
       "4             5  Addison Wesley Publishing Company"
      ]
     },
     "execution_count": 4,
     "metadata": {},
     "output_type": "execute_result"
    }
   ],
   "source": [
    "query = ''' SELECT \n",
    "                *\n",
    "            FROM publishers\n",
    "            LIMIT 10'''\n",
    "publishers = pd.io.sql.read_sql(query, con = engine)\n",
    "publishers.head()\n"
   ]
  },
  {
   "cell_type": "markdown",
   "metadata": {},
   "source": [
    "In the table \"publishers\" we see 2 columns with information about publishers an their id's. The primary key of the table is publisher_id."
   ]
  },
  {
   "cell_type": "code",
   "execution_count": 5,
   "metadata": {
    "scrolled": true
   },
   "outputs": [
    {
     "data": {
      "text/html": [
       "<div>\n",
       "<style scoped>\n",
       "    .dataframe tbody tr th:only-of-type {\n",
       "        vertical-align: middle;\n",
       "    }\n",
       "\n",
       "    .dataframe tbody tr th {\n",
       "        vertical-align: top;\n",
       "    }\n",
       "\n",
       "    .dataframe thead th {\n",
       "        text-align: right;\n",
       "    }\n",
       "</style>\n",
       "<table border=\"1\" class=\"dataframe\">\n",
       "  <thead>\n",
       "    <tr style=\"text-align: right;\">\n",
       "      <th></th>\n",
       "      <th>rating_id</th>\n",
       "      <th>book_id</th>\n",
       "      <th>username</th>\n",
       "      <th>rating</th>\n",
       "    </tr>\n",
       "  </thead>\n",
       "  <tbody>\n",
       "    <tr>\n",
       "      <td>0</td>\n",
       "      <td>1</td>\n",
       "      <td>1</td>\n",
       "      <td>ryanfranco</td>\n",
       "      <td>4</td>\n",
       "    </tr>\n",
       "    <tr>\n",
       "      <td>1</td>\n",
       "      <td>2</td>\n",
       "      <td>1</td>\n",
       "      <td>grantpatricia</td>\n",
       "      <td>2</td>\n",
       "    </tr>\n",
       "    <tr>\n",
       "      <td>2</td>\n",
       "      <td>3</td>\n",
       "      <td>1</td>\n",
       "      <td>brandtandrea</td>\n",
       "      <td>5</td>\n",
       "    </tr>\n",
       "    <tr>\n",
       "      <td>3</td>\n",
       "      <td>4</td>\n",
       "      <td>2</td>\n",
       "      <td>lorichen</td>\n",
       "      <td>3</td>\n",
       "    </tr>\n",
       "    <tr>\n",
       "      <td>4</td>\n",
       "      <td>5</td>\n",
       "      <td>2</td>\n",
       "      <td>mariokeller</td>\n",
       "      <td>2</td>\n",
       "    </tr>\n",
       "  </tbody>\n",
       "</table>\n",
       "</div>"
      ],
      "text/plain": [
       "   rating_id  book_id       username  rating\n",
       "0          1        1     ryanfranco       4\n",
       "1          2        1  grantpatricia       2\n",
       "2          3        1   brandtandrea       5\n",
       "3          4        2       lorichen       3\n",
       "4          5        2    mariokeller       2"
      ]
     },
     "execution_count": 5,
     "metadata": {},
     "output_type": "execute_result"
    }
   ],
   "source": [
    "query = ''' SELECT \n",
    "                *\n",
    "            FROM ratings\n",
    "            LIMIT 10'''\n",
    "ratings = pd.io.sql.read_sql(query, con = engine)\n",
    "ratings.head()\n"
   ]
  },
  {
   "cell_type": "markdown",
   "metadata": {},
   "source": [
    "The table ratings consits of 4 columns with information about book id, rating id, username and rating. The primary key of the table is rating_id."
   ]
  },
  {
   "cell_type": "code",
   "execution_count": 6,
   "metadata": {
    "scrolled": true
   },
   "outputs": [
    {
     "data": {
      "text/html": [
       "<div>\n",
       "<style scoped>\n",
       "    .dataframe tbody tr th:only-of-type {\n",
       "        vertical-align: middle;\n",
       "    }\n",
       "\n",
       "    .dataframe tbody tr th {\n",
       "        vertical-align: top;\n",
       "    }\n",
       "\n",
       "    .dataframe thead th {\n",
       "        text-align: right;\n",
       "    }\n",
       "</style>\n",
       "<table border=\"1\" class=\"dataframe\">\n",
       "  <thead>\n",
       "    <tr style=\"text-align: right;\">\n",
       "      <th></th>\n",
       "      <th>review_id</th>\n",
       "      <th>book_id</th>\n",
       "      <th>username</th>\n",
       "      <th>text</th>\n",
       "    </tr>\n",
       "  </thead>\n",
       "  <tbody>\n",
       "    <tr>\n",
       "      <td>0</td>\n",
       "      <td>1</td>\n",
       "      <td>1</td>\n",
       "      <td>brandtandrea</td>\n",
       "      <td>Mention society tell send professor analysis. ...</td>\n",
       "    </tr>\n",
       "    <tr>\n",
       "      <td>1</td>\n",
       "      <td>2</td>\n",
       "      <td>1</td>\n",
       "      <td>ryanfranco</td>\n",
       "      <td>Foot glass pretty audience hit themselves. Amo...</td>\n",
       "    </tr>\n",
       "    <tr>\n",
       "      <td>2</td>\n",
       "      <td>3</td>\n",
       "      <td>2</td>\n",
       "      <td>lorichen</td>\n",
       "      <td>Listen treat keep worry. Miss husband tax but ...</td>\n",
       "    </tr>\n",
       "    <tr>\n",
       "      <td>3</td>\n",
       "      <td>4</td>\n",
       "      <td>3</td>\n",
       "      <td>johnsonamanda</td>\n",
       "      <td>Finally month interesting blue could nature cu...</td>\n",
       "    </tr>\n",
       "    <tr>\n",
       "      <td>4</td>\n",
       "      <td>5</td>\n",
       "      <td>3</td>\n",
       "      <td>scotttamara</td>\n",
       "      <td>Nation purpose heavy give wait song will. List...</td>\n",
       "    </tr>\n",
       "  </tbody>\n",
       "</table>\n",
       "</div>"
      ],
      "text/plain": [
       "   review_id  book_id       username  \\\n",
       "0          1        1   brandtandrea   \n",
       "1          2        1     ryanfranco   \n",
       "2          3        2       lorichen   \n",
       "3          4        3  johnsonamanda   \n",
       "4          5        3    scotttamara   \n",
       "\n",
       "                                                text  \n",
       "0  Mention society tell send professor analysis. ...  \n",
       "1  Foot glass pretty audience hit themselves. Amo...  \n",
       "2  Listen treat keep worry. Miss husband tax but ...  \n",
       "3  Finally month interesting blue could nature cu...  \n",
       "4  Nation purpose heavy give wait song will. List...  "
      ]
     },
     "execution_count": 6,
     "metadata": {},
     "output_type": "execute_result"
    }
   ],
   "source": [
    "query = ''' SELECT \n",
    "                *\n",
    "            FROM reviews\n",
    "            LIMIT 10'''\n",
    "reviews = pd.io.sql.read_sql(query, con = engine)\n",
    "reviews.head()\n"
   ]
  },
  {
   "cell_type": "markdown",
   "metadata": {},
   "source": [
    "The table reviews consits of 4 columns with information about book id, review id, username and text of review. The primary key of the table is review_id."
   ]
  },
  {
   "cell_type": "markdown",
   "metadata": {},
   "source": [
    "### Find the number of books released after January 1, 2000."
   ]
  },
  {
   "cell_type": "code",
   "execution_count": 7,
   "metadata": {
    "scrolled": true
   },
   "outputs": [
    {
     "data": {
      "text/html": [
       "<div>\n",
       "<style scoped>\n",
       "    .dataframe tbody tr th:only-of-type {\n",
       "        vertical-align: middle;\n",
       "    }\n",
       "\n",
       "    .dataframe tbody tr th {\n",
       "        vertical-align: top;\n",
       "    }\n",
       "\n",
       "    .dataframe thead th {\n",
       "        text-align: right;\n",
       "    }\n",
       "</style>\n",
       "<table border=\"1\" class=\"dataframe\">\n",
       "  <thead>\n",
       "    <tr style=\"text-align: right;\">\n",
       "      <th></th>\n",
       "      <th>cnt</th>\n",
       "    </tr>\n",
       "  </thead>\n",
       "  <tbody>\n",
       "    <tr>\n",
       "      <td>0</td>\n",
       "      <td>821</td>\n",
       "    </tr>\n",
       "  </tbody>\n",
       "</table>\n",
       "</div>"
      ],
      "text/plain": [
       "   cnt\n",
       "0  821"
      ]
     },
     "execution_count": 7,
     "metadata": {},
     "output_type": "execute_result"
    }
   ],
   "source": [
    "query = '''SELECT \n",
    "            COUNT(book_id) AS cnt\n",
    "            FROM\n",
    "            books\n",
    "            WHERE \n",
    "            publication_date::date >= '2000-01-01';\n",
    "        '''\n",
    "            \n",
    "count_books = pd.io.sql.read_sql(query, con = engine)\n",
    "count_books"
   ]
  },
  {
   "cell_type": "markdown",
   "metadata": {},
   "source": [
    "We have 821 books released since 01.01.2000."
   ]
  },
  {
   "cell_type": "code",
   "execution_count": 8,
   "metadata": {
    "scrolled": true
   },
   "outputs": [
    {
     "data": {
      "text/html": [
       "<div>\n",
       "<style scoped>\n",
       "    .dataframe tbody tr th:only-of-type {\n",
       "        vertical-align: middle;\n",
       "    }\n",
       "\n",
       "    .dataframe tbody tr th {\n",
       "        vertical-align: top;\n",
       "    }\n",
       "\n",
       "    .dataframe thead th {\n",
       "        text-align: right;\n",
       "    }\n",
       "</style>\n",
       "<table border=\"1\" class=\"dataframe\">\n",
       "  <thead>\n",
       "    <tr style=\"text-align: right;\">\n",
       "      <th></th>\n",
       "      <th>cnt</th>\n",
       "    </tr>\n",
       "  </thead>\n",
       "  <tbody>\n",
       "    <tr>\n",
       "      <td>0</td>\n",
       "      <td>819</td>\n",
       "    </tr>\n",
       "  </tbody>\n",
       "</table>\n",
       "</div>"
      ],
      "text/plain": [
       "   cnt\n",
       "0  819"
      ]
     },
     "execution_count": 8,
     "metadata": {},
     "output_type": "execute_result"
    }
   ],
   "source": [
    "query = '''SELECT \n",
    "            COUNT(book_id) AS cnt\n",
    "            FROM\n",
    "            books\n",
    "            WHERE \n",
    "            publication_date::date > '2000-01-01';\n",
    "        '''\n",
    "            \n",
    "count_books1 = pd.io.sql.read_sql(query, con = engine)\n",
    "count_books1"
   ]
  },
  {
   "cell_type": "markdown",
   "metadata": {},
   "source": [
    "We have 819 books released after 01.01.2000."
   ]
  },
  {
   "cell_type": "markdown",
   "metadata": {},
   "source": [
    "### Find the number of user reviews and the average rating for each book."
   ]
  },
  {
   "cell_type": "code",
   "execution_count": 9,
   "metadata": {
    "scrolled": true
   },
   "outputs": [
    {
     "data": {
      "text/html": [
       "<div>\n",
       "<style scoped>\n",
       "    .dataframe tbody tr th:only-of-type {\n",
       "        vertical-align: middle;\n",
       "    }\n",
       "\n",
       "    .dataframe tbody tr th {\n",
       "        vertical-align: top;\n",
       "    }\n",
       "\n",
       "    .dataframe thead th {\n",
       "        text-align: right;\n",
       "    }\n",
       "</style>\n",
       "<table border=\"1\" class=\"dataframe\">\n",
       "  <thead>\n",
       "    <tr style=\"text-align: right;\">\n",
       "      <th></th>\n",
       "      <th>book_id</th>\n",
       "      <th>title</th>\n",
       "      <th>average_rating</th>\n",
       "      <th>amount_reviews</th>\n",
       "    </tr>\n",
       "  </thead>\n",
       "  <tbody>\n",
       "    <tr>\n",
       "      <td>0</td>\n",
       "      <td>901</td>\n",
       "      <td>The Walking Dead  Book One (The Walking Dead #...</td>\n",
       "      <td>5.0</td>\n",
       "      <td>4</td>\n",
       "    </tr>\n",
       "    <tr>\n",
       "      <td>1</td>\n",
       "      <td>518</td>\n",
       "      <td>Pop Goes the Weasel (Alex Cross  #5)</td>\n",
       "      <td>5.0</td>\n",
       "      <td>4</td>\n",
       "    </tr>\n",
       "    <tr>\n",
       "      <td>2</td>\n",
       "      <td>444</td>\n",
       "      <td>Moneyball: The Art of Winning an Unfair Game</td>\n",
       "      <td>5.0</td>\n",
       "      <td>9</td>\n",
       "    </tr>\n",
       "    <tr>\n",
       "      <td>3</td>\n",
       "      <td>913</td>\n",
       "      <td>The Woman in Black</td>\n",
       "      <td>5.0</td>\n",
       "      <td>4</td>\n",
       "    </tr>\n",
       "    <tr>\n",
       "      <td>4</td>\n",
       "      <td>169</td>\n",
       "      <td>Crucial Conversations: Tools for Talking When ...</td>\n",
       "      <td>5.0</td>\n",
       "      <td>4</td>\n",
       "    </tr>\n",
       "  </tbody>\n",
       "</table>\n",
       "</div>"
      ],
      "text/plain": [
       "   book_id                                              title  average_rating  \\\n",
       "0      901  The Walking Dead  Book One (The Walking Dead #...             5.0   \n",
       "1      518               Pop Goes the Weasel (Alex Cross  #5)             5.0   \n",
       "2      444       Moneyball: The Art of Winning an Unfair Game             5.0   \n",
       "3      913                                 The Woman in Black             5.0   \n",
       "4      169  Crucial Conversations: Tools for Talking When ...             5.0   \n",
       "\n",
       "   amount_reviews  \n",
       "0               4  \n",
       "1               4  \n",
       "2               9  \n",
       "3               4  \n",
       "4               4  "
      ]
     },
     "execution_count": 9,
     "metadata": {},
     "output_type": "execute_result"
    }
   ],
   "source": [
    "query = '''SELECT \n",
    "                ratings.book_id AS book_id,\n",
    "                books.title as title,\n",
    "                AVG(ratings.rating) as average_rating,\n",
    "                COUNT(reviews.review_id) as amount_reviews\n",
    "            FROM \n",
    "                ratings\n",
    "                INNER JOIN reviews ON reviews.book_id = ratings.book_id\n",
    "                INNER JOIN books ON books.book_id = ratings.book_id\n",
    "                \n",
    "            GROUP BY \n",
    "                ratings.book_id,\n",
    "                books.title\n",
    "            ORDER BY\n",
    "                average_rating DESC;'''\n",
    "reviews_and_ratings = pd.io.sql.read_sql(query, con = engine)\n",
    "reviews_and_ratings.head()"
   ]
  },
  {
   "cell_type": "code",
   "execution_count": 10,
   "metadata": {
    "scrolled": false
   },
   "outputs": [
    {
     "data": {
      "image/png": "[encoded data removed]",
      "text/plain": [
       "<Figure size 432x288 with 1 Axes>"
      ]
     },
     "metadata": {
      "needs_background": "light"
     },
     "output_type": "display_data"
    }
   ],
   "source": [
    "reviews_and_ratings['average_rating'].hist()\n",
    "plt.ylabel('Frequency')\n",
    "plt.xlabel('Rating')\n",
    "plt.title('Average rating for books')\n",
    "plt.show()"
   ]
  },
  {
   "cell_type": "markdown",
   "metadata": {},
   "source": [
    "We can conclude that the most of books have rating in the range 3.9 - 4.3 (more than 300 estimates) and rarely there is a rating lower than 2.9. Approximately the same number of estimates as 3.5 and 4.5 - the number of estimates tends to 200. At the same time, estimates close to 3 and after 4.6 are much less common - about 65-75."
   ]
  },
  {
   "cell_type": "code",
   "execution_count": 11,
   "metadata": {
    "scrolled": true
   },
   "outputs": [
    {
     "data": {
      "image/png": "[encoded data removed]",
      "text/plain": [
       "<Figure size 432x288 with 1 Axes>"
      ]
     },
     "metadata": {
      "needs_background": "light"
     },
     "output_type": "display_data"
    }
   ],
   "source": [
    "reviews_and_ratings['amount_reviews'].hist(bins=10, range=(0,100))\n",
    "plt.ylabel('Frequency')\n",
    "plt.xlabel('Reviews')\n",
    "plt.title('Amount of reviews for books')\n",
    "plt.show()"
   ]
  },
  {
   "cell_type": "markdown",
   "metadata": {},
   "source": [
    "We can note that no more than 10 reviews are written for the absolute majority of books. After that, the number of reviews on the book is sharply reduced and begins to tend to zero."
   ]
  },
  {
   "cell_type": "markdown",
   "metadata": {},
   "source": [
    "### Identify the publisher that has released the greatest number of books with more than 50 pages (this will help you exclude brochures and similar publications from your analysis)."
   ]
  },
  {
   "cell_type": "code",
   "execution_count": 12,
   "metadata": {
    "scrolled": true
   },
   "outputs": [
    {
     "data": {
      "text/html": [
       "<div>\n",
       "<style scoped>\n",
       "    .dataframe tbody tr th:only-of-type {\n",
       "        vertical-align: middle;\n",
       "    }\n",
       "\n",
       "    .dataframe tbody tr th {\n",
       "        vertical-align: top;\n",
       "    }\n",
       "\n",
       "    .dataframe thead th {\n",
       "        text-align: right;\n",
       "    }\n",
       "</style>\n",
       "<table border=\"1\" class=\"dataframe\">\n",
       "  <thead>\n",
       "    <tr style=\"text-align: right;\">\n",
       "      <th></th>\n",
       "      <th>publisher</th>\n",
       "      <th>books_cnt</th>\n",
       "    </tr>\n",
       "  </thead>\n",
       "  <tbody>\n",
       "    <tr>\n",
       "      <td>0</td>\n",
       "      <td>Penguin Books</td>\n",
       "      <td>42</td>\n",
       "    </tr>\n",
       "  </tbody>\n",
       "</table>\n",
       "</div>"
      ],
      "text/plain": [
       "       publisher  books_cnt\n",
       "0  Penguin Books         42"
      ]
     },
     "execution_count": 12,
     "metadata": {},
     "output_type": "execute_result"
    }
   ],
   "source": [
    "query = '''SELECT \n",
    "                publishers.publisher as publisher,\n",
    "                COUNT(books.book_id) as books_cnt\n",
    "            FROM \n",
    "                books\n",
    "            LEFT JOIN publishers \n",
    "                            ON\n",
    "                publishers.publisher_id = books.publisher_id\n",
    "            WHERE \n",
    "                books.num_pages > 50\n",
    "            GROUP BY\n",
    "                publishers.publisher\n",
    "            ORDER BY\n",
    "                books_cnt DESC\n",
    "            LIMIT 1;'''\n",
    "num_pages_more_than_50 = pd.io.sql.read_sql(query, con = engine)\n",
    "num_pages_more_than_50.head()"
   ]
  },
  {
   "cell_type": "markdown",
   "metadata": {},
   "source": [
    "The publisher who has released the greatest number of books is Penguin Books."
   ]
  },
  {
   "cell_type": "markdown",
   "metadata": {},
   "source": [
    "### Identify the author with the highest average book rating: look only at books with at least 50 ratings."
   ]
  },
  {
   "cell_type": "code",
   "execution_count": 13,
   "metadata": {
    "scrolled": true
   },
   "outputs": [
    {
     "data": {
      "text/html": [
       "<div>\n",
       "<style scoped>\n",
       "    .dataframe tbody tr th:only-of-type {\n",
       "        vertical-align: middle;\n",
       "    }\n",
       "\n",
       "    .dataframe tbody tr th {\n",
       "        vertical-align: top;\n",
       "    }\n",
       "\n",
       "    .dataframe thead th {\n",
       "        text-align: right;\n",
       "    }\n",
       "</style>\n",
       "<table border=\"1\" class=\"dataframe\">\n",
       "  <thead>\n",
       "    <tr style=\"text-align: right;\">\n",
       "      <th></th>\n",
       "      <th>author_id</th>\n",
       "      <th>authors</th>\n",
       "      <th>cnt</th>\n",
       "      <th>avg</th>\n",
       "    </tr>\n",
       "  </thead>\n",
       "  <tbody>\n",
       "    <tr>\n",
       "      <td>0</td>\n",
       "      <td>236</td>\n",
       "      <td>J.K. Rowling/Mary GrandPré</td>\n",
       "      <td>312</td>\n",
       "      <td>4.288462</td>\n",
       "    </tr>\n",
       "  </tbody>\n",
       "</table>\n",
       "</div>"
      ],
      "text/plain": [
       "   author_id                     authors  cnt       avg\n",
       "0        236  J.K. Rowling/Mary GrandPré  312  4.288462"
      ]
     },
     "execution_count": 13,
     "metadata": {},
     "output_type": "execute_result"
    }
   ],
   "source": [
    "query = '''SELECT \n",
    "                books.author_id AS author_id,\n",
    "                authors.author AS authors,\n",
    "                COUNT (ratings.rating_id) AS cnt,\n",
    "                AVG (ratings.rating) AS avg\n",
    "            FROM\n",
    "                books\n",
    "                INNER JOIN authors ON authors.author_id = books.author_id\n",
    "                INNER JOIN ratings ON ratings.book_id = books.book_id\n",
    "            GROUP BY \n",
    "                authors.author_id,\n",
    "                books.author_id\n",
    "            HAVING\n",
    "                COUNT(ratings.rating_id) > 50\n",
    "            ORDER BY \n",
    "                avg DESC\n",
    "            LIMIT 1;'''\n",
    "authors_with_high_rating = pd.io.sql.read_sql(query, con = engine)\n",
    "authors_with_high_rating.head()"
   ]
  },
  {
   "cell_type": "markdown",
   "metadata": {},
   "source": [
    "The author with the highest average book rating is J.K. Rowling/Mary GrandPré."
   ]
  },
  {
   "cell_type": "markdown",
   "metadata": {},
   "source": [
    "### Find the average number of text reviews among users who rated more than 50 books."
   ]
  },
  {
   "cell_type": "code",
   "execution_count": 14,
   "metadata": {},
   "outputs": [
    {
     "data": {
      "text/html": [
       "<div>\n",
       "<style scoped>\n",
       "    .dataframe tbody tr th:only-of-type {\n",
       "        vertical-align: middle;\n",
       "    }\n",
       "\n",
       "    .dataframe tbody tr th {\n",
       "        vertical-align: top;\n",
       "    }\n",
       "\n",
       "    .dataframe thead th {\n",
       "        text-align: right;\n",
       "    }\n",
       "</style>\n",
       "<table border=\"1\" class=\"dataframe\">\n",
       "  <thead>\n",
       "    <tr style=\"text-align: right;\">\n",
       "      <th></th>\n",
       "      <th>avg_cnt_text</th>\n",
       "    </tr>\n",
       "  </thead>\n",
       "  <tbody>\n",
       "    <tr>\n",
       "      <td>0</td>\n",
       "      <td>24.333333</td>\n",
       "    </tr>\n",
       "  </tbody>\n",
       "</table>\n",
       "</div>"
      ],
      "text/plain": [
       "   avg_cnt_text\n",
       "0     24.333333"
      ]
     },
     "execution_count": 14,
     "metadata": {},
     "output_type": "execute_result"
    }
   ],
   "source": [
    "query = '''SELECT \n",
    "                \n",
    "                AVG (Sub_count.cnt_text) as avg_cnt_text\n",
    "                \n",
    "            FROM\n",
    "                (SELECT\n",
    "                    count(distinct reviews.text) as cnt_text\n",
    "                 FROM\n",
    "                     (SELECT\n",
    "                         username,\n",
    "                         COUNT(ratings.book_id) as cnt_books\n",
    "                      FROM\n",
    "                      ratings\n",
    "                 GROUP BY \n",
    "                     username\n",
    "                 HAVING\n",
    "                     COUNT(ratings.book_id) > 50) AS Sub\n",
    "            INNER JOIN reviews ON reviews.username = Sub.username\n",
    "            GROUP BY \n",
    "                Sub.username) as Sub_count'''\n",
    "                \n",
    "avg = pd.io.sql.read_sql(query, con = engine)\n",
    "avg.head()"
   ]
  },
  {
   "cell_type": "markdown",
   "metadata": {},
   "source": [
    "Users who rated more than 50 books write 24.3 reviews in average ."
   ]
  },
  {
   "cell_type": "markdown",
   "metadata": {},
   "source": [
    "## General conclusion"
   ]
  },
  {
   "cell_type": "markdown",
   "metadata": {},
   "source": [
    "We studied five tables and found that:\n",
    "1. There were 821 books released after 01.01.2000.\n",
    "2. The most of books have rating in the range 3.9 - 4.3.\n",
    "3. There were no more than 10 reviews are written for the absolute majority of books. \n",
    "4. The greatest publisher by number of books is Penguin Books.\n",
    "5. The most popular author is J.K. Rowling/Mary GrandPré.\n",
    "6. The most active users leave 24.3 reviews on average.\n",
    "Based on the data obtained, it is possible to recommend discussing with the author J.K. Rowling/Mary GrandPré the writing of the book and its publication in the Penguin Books publishing house. And regarding the choice of topic / genre,  can arrange a survey of the most active reviewers on the theme: which books receive a higher rating and good text reviews."
   ]
  },
  {
   "cell_type": "code",
   "execution_count": null,
   "metadata": {},
   "outputs": [],
   "source": []
  }
 ],
 "metadata": {
  "ExecuteTimeLog": [
   {
    "duration": 765,
    "start_time": "2021-06-21T20:51:12.219Z"
   },
   {
    "duration": 397,
    "start_time": "2021-06-21T20:51:20.507Z"
   },
   {
    "duration": 109,
    "start_time": "2021-06-21T20:56:51.466Z"
   },
   {
    "duration": 121,
    "start_time": "2021-06-21T20:57:10.379Z"
   },
   {
    "duration": 358,
    "start_time": "2021-06-21T20:57:14.294Z"
   },
   {
    "duration": 65,
    "start_time": "2021-06-21T20:58:13.308Z"
   },
   {
    "duration": 66,
    "start_time": "2021-06-21T20:59:22.352Z"
   },
   {
    "duration": 62,
    "start_time": "2021-06-21T20:59:53.116Z"
   },
   {
    "duration": 78,
    "start_time": "2021-06-21T21:00:26.311Z"
   },
   {
    "duration": 80,
    "start_time": "2021-06-21T21:00:42.081Z"
   },
   {
    "duration": 71,
    "start_time": "2021-06-21T21:01:25.270Z"
   },
   {
    "duration": 141,
    "start_time": "2021-06-21T21:08:22.199Z"
   },
   {
    "duration": 115,
    "start_time": "2021-06-21T21:09:39.676Z"
   },
   {
    "duration": 119,
    "start_time": "2021-06-21T21:10:14.355Z"
   },
   {
    "duration": 4,
    "start_time": "2021-06-21T21:11:49.794Z"
   },
   {
    "duration": 65,
    "start_time": "2021-06-21T21:12:06.307Z"
   },
   {
    "duration": 64,
    "start_time": "2021-06-21T21:12:28.951Z"
   },
   {
    "duration": 102,
    "start_time": "2021-06-21T21:12:55.043Z"
   },
   {
    "duration": 105,
    "start_time": "2021-06-21T21:13:42.142Z"
   },
   {
    "duration": 107,
    "start_time": "2021-06-21T21:15:12.816Z"
   },
   {
    "duration": 99,
    "start_time": "2021-06-21T21:20:17.475Z"
   },
   {
    "duration": 139,
    "start_time": "2021-06-21T21:20:38.587Z"
   },
   {
    "duration": 104,
    "start_time": "2021-06-21T21:22:22.325Z"
   },
   {
    "duration": 115,
    "start_time": "2021-06-21T21:23:55.587Z"
   },
   {
    "duration": 106,
    "start_time": "2021-06-21T21:24:08.113Z"
   },
   {
    "duration": 127,
    "start_time": "2021-06-21T21:26:11.549Z"
   },
   {
    "duration": 112,
    "start_time": "2021-06-21T21:26:27.050Z"
   },
   {
    "duration": 104,
    "start_time": "2021-06-21T21:27:01.995Z"
   },
   {
    "duration": 98,
    "start_time": "2021-06-21T21:27:13.927Z"
   },
   {
    "duration": 110,
    "start_time": "2021-06-21T21:27:21.075Z"
   },
   {
    "duration": 106,
    "start_time": "2021-06-21T21:27:45.672Z"
   },
   {
    "duration": 111,
    "start_time": "2021-06-21T21:28:32.641Z"
   },
   {
    "duration": 5,
    "start_time": "2021-06-21T21:28:52.843Z"
   },
   {
    "duration": 171,
    "start_time": "2021-06-21T21:35:51.682Z"
   },
   {
    "duration": 122,
    "start_time": "2021-06-21T21:36:03.563Z"
   },
   {
    "duration": 60,
    "start_time": "2021-06-21T21:36:23.514Z"
   },
   {
    "duration": 62,
    "start_time": "2021-06-21T21:36:40.705Z"
   },
   {
    "duration": 121,
    "start_time": "2021-06-21T21:38:53.853Z"
   },
   {
    "duration": 626,
    "start_time": "2021-06-21T21:42:14.826Z"
   },
   {
    "duration": 405,
    "start_time": "2021-06-21T21:42:29.017Z"
   },
   {
    "duration": 121,
    "start_time": "2021-06-21T21:43:36.685Z"
   },
   {
    "duration": 116,
    "start_time": "2021-06-21T21:43:52.732Z"
   },
   {
    "duration": 103,
    "start_time": "2021-06-21T21:44:32.436Z"
   },
   {
    "duration": 370,
    "start_time": "2021-06-21T21:45:50.093Z"
   },
   {
    "duration": 416,
    "start_time": "2021-06-21T21:46:02.302Z"
   },
   {
    "duration": 439,
    "start_time": "2021-06-21T21:46:25.384Z"
   },
   {
    "duration": 366,
    "start_time": "2021-06-21T21:47:13.135Z"
   },
   {
    "duration": 756,
    "start_time": "2021-06-21T21:47:56.199Z"
   },
   {
    "duration": 467,
    "start_time": "2021-06-21T21:48:08.736Z"
   },
   {
    "duration": 143,
    "start_time": "2021-06-21T21:51:16.059Z"
   },
   {
    "duration": 448,
    "start_time": "2021-06-21T21:52:40.964Z"
   },
   {
    "duration": 106,
    "start_time": "2021-06-21T21:53:26.009Z"
   },
   {
    "duration": 72,
    "start_time": "2021-06-21T21:54:15.298Z"
   },
   {
    "duration": 61,
    "start_time": "2021-06-21T21:56:14.479Z"
   },
   {
    "duration": 415,
    "start_time": "2021-06-21T22:14:13.539Z"
   },
   {
    "duration": 231,
    "start_time": "2021-06-21T22:14:51.713Z"
   },
   {
    "duration": 217,
    "start_time": "2021-06-21T22:18:24.953Z"
   },
   {
    "duration": 163,
    "start_time": "2021-06-21T22:20:45.719Z"
   },
   {
    "duration": 164,
    "start_time": "2021-06-21T22:21:11.020Z"
   },
   {
    "duration": 383,
    "start_time": "2021-06-21T22:23:37.969Z"
   },
   {
    "duration": 180,
    "start_time": "2021-06-21T22:23:43.790Z"
   },
   {
    "duration": 428,
    "start_time": "2021-06-21T22:24:40.862Z"
   },
   {
    "duration": 401,
    "start_time": "2021-06-21T22:25:44.021Z"
   },
   {
    "duration": 376,
    "start_time": "2021-06-21T22:25:57.131Z"
   },
   {
    "duration": 916,
    "start_time": "2021-06-21T22:26:24.163Z"
   },
   {
    "duration": 428,
    "start_time": "2021-06-21T22:26:53.069Z"
   },
   {
    "duration": 427,
    "start_time": "2021-06-21T22:39:19.343Z"
   },
   {
    "duration": 385,
    "start_time": "2021-06-21T22:39:38.533Z"
   },
   {
    "duration": 95,
    "start_time": "2021-06-21T22:40:04.707Z"
   },
   {
    "duration": 87,
    "start_time": "2021-06-21T22:41:13.418Z"
   },
   {
    "duration": 61,
    "start_time": "2021-06-21T22:42:27.647Z"
   },
   {
    "duration": 111,
    "start_time": "2021-06-21T22:43:31.105Z"
   },
   {
    "duration": 151,
    "start_time": "2021-06-21T22:44:00.239Z"
   },
   {
    "duration": 87,
    "start_time": "2021-06-21T22:45:16.128Z"
   },
   {
    "duration": 71,
    "start_time": "2021-06-21T22:46:46.407Z"
   },
   {
    "duration": 94,
    "start_time": "2021-06-21T22:47:09.985Z"
   },
   {
    "duration": 12,
    "start_time": "2021-06-21T22:47:20.242Z"
   },
   {
    "duration": 9,
    "start_time": "2021-06-21T22:56:14.869Z"
   },
   {
    "duration": 9,
    "start_time": "2021-06-21T22:56:33.479Z"
   },
   {
    "duration": 9,
    "start_time": "2021-06-21T22:57:03.981Z"
   },
   {
    "duration": 9,
    "start_time": "2021-06-21T22:59:21.887Z"
   },
   {
    "duration": 942,
    "start_time": "2021-06-22T07:24:50.916Z"
   },
   {
    "duration": 2024,
    "start_time": "2021-06-22T07:25:02.769Z"
   },
   {
    "duration": 365,
    "start_time": "2021-06-22T07:25:04.796Z"
   },
   {
    "duration": 10,
    "start_time": "2021-06-22T07:25:05.164Z"
   },
   {
    "duration": 106,
    "start_time": "2021-06-22T07:25:05.176Z"
   },
   {
    "duration": 8,
    "start_time": "2021-06-22T07:25:05.284Z"
   },
   {
    "duration": 100,
    "start_time": "2021-06-22T07:25:05.294Z"
   },
   {
    "duration": 7,
    "start_time": "2021-06-22T07:25:05.396Z"
   },
   {
    "duration": 93,
    "start_time": "2021-06-22T07:25:05.405Z"
   },
   {
    "duration": 7,
    "start_time": "2021-06-22T07:25:05.502Z"
   },
   {
    "duration": 93,
    "start_time": "2021-06-22T07:25:05.512Z"
   },
   {
    "duration": 8,
    "start_time": "2021-06-22T07:25:05.607Z"
   },
   {
    "duration": 93,
    "start_time": "2021-06-22T07:25:05.617Z"
   },
   {
    "duration": 1177,
    "start_time": "2021-06-22T07:25:05.713Z"
   },
   {
    "duration": 127,
    "start_time": "2021-06-22T07:25:33.572Z"
   },
   {
    "duration": 120,
    "start_time": "2021-06-22T07:25:59.211Z"
   },
   {
    "duration": 166,
    "start_time": "2021-06-22T07:26:12.815Z"
   },
   {
    "duration": 117,
    "start_time": "2021-06-22T07:26:44.553Z"
   },
   {
    "duration": 453,
    "start_time": "2021-06-22T07:27:37.523Z"
   },
   {
    "duration": 914,
    "start_time": "2021-06-22T07:28:10.603Z"
   },
   {
    "duration": 6,
    "start_time": "2021-06-22T07:28:44.743Z"
   },
   {
    "duration": 287,
    "start_time": "2021-06-22T07:28:45.524Z"
   },
   {
    "duration": 9,
    "start_time": "2021-06-22T07:28:46.703Z"
   },
   {
    "duration": 76,
    "start_time": "2021-06-22T07:28:46.893Z"
   },
   {
    "duration": 8,
    "start_time": "2021-06-22T07:28:47.099Z"
   },
   {
    "duration": 73,
    "start_time": "2021-06-22T07:28:47.260Z"
   },
   {
    "duration": 7,
    "start_time": "2021-06-22T07:28:47.414Z"
   },
   {
    "duration": 76,
    "start_time": "2021-06-22T07:28:47.584Z"
   },
   {
    "duration": 8,
    "start_time": "2021-06-22T07:28:47.728Z"
   },
   {
    "duration": 75,
    "start_time": "2021-06-22T07:28:48.032Z"
   },
   {
    "duration": 9,
    "start_time": "2021-06-22T07:28:48.189Z"
   },
   {
    "duration": 72,
    "start_time": "2021-06-22T07:28:48.345Z"
   },
   {
    "duration": 113,
    "start_time": "2021-06-22T07:28:48.913Z"
   },
   {
    "duration": 283,
    "start_time": "2021-06-22T07:28:49.083Z"
   },
   {
    "duration": 306,
    "start_time": "2021-06-22T07:31:12.295Z"
   },
   {
    "duration": 296,
    "start_time": "2021-06-22T07:31:26.962Z"
   },
   {
    "duration": 277,
    "start_time": "2021-06-22T07:31:33.784Z"
   },
   {
    "duration": 569,
    "start_time": "2021-06-22T07:31:52.016Z"
   },
   {
    "duration": 295,
    "start_time": "2021-06-22T07:31:59.190Z"
   },
   {
    "duration": 509,
    "start_time": "2021-06-22T07:32:07.964Z"
   },
   {
    "duration": 387,
    "start_time": "2021-06-22T07:32:17.021Z"
   },
   {
    "duration": 339,
    "start_time": "2021-06-22T07:32:24.840Z"
   },
   {
    "duration": 270,
    "start_time": "2021-06-22T07:34:38.904Z"
   },
   {
    "duration": 282,
    "start_time": "2021-06-22T07:34:51.685Z"
   },
   {
    "duration": 263,
    "start_time": "2021-06-22T07:35:01.799Z"
   },
   {
    "duration": 276,
    "start_time": "2021-06-22T07:35:25.332Z"
   },
   {
    "duration": 274,
    "start_time": "2021-06-22T07:35:37.801Z"
   },
   {
    "duration": 273,
    "start_time": "2021-06-22T07:36:03.736Z"
   },
   {
    "duration": 929,
    "start_time": "2021-06-22T09:42:33.480Z"
   },
   {
    "duration": 363,
    "start_time": "2021-06-22T09:42:34.412Z"
   },
   {
    "duration": 9,
    "start_time": "2021-06-22T09:42:34.779Z"
   },
   {
    "duration": 86,
    "start_time": "2021-06-22T09:42:34.791Z"
   },
   {
    "duration": 8,
    "start_time": "2021-06-22T09:42:34.880Z"
   },
   {
    "duration": 76,
    "start_time": "2021-06-22T09:42:34.891Z"
   },
   {
    "duration": 8,
    "start_time": "2021-06-22T09:42:34.969Z"
   },
   {
    "duration": 104,
    "start_time": "2021-06-22T09:42:34.981Z"
   },
   {
    "duration": 8,
    "start_time": "2021-06-22T09:42:35.087Z"
   },
   {
    "duration": 92,
    "start_time": "2021-06-22T09:42:35.098Z"
   },
   {
    "duration": 8,
    "start_time": "2021-06-22T09:42:35.193Z"
   },
   {
    "duration": 79,
    "start_time": "2021-06-22T09:42:35.203Z"
   },
   {
    "duration": 461,
    "start_time": "2021-06-22T09:42:35.284Z"
   },
   {
    "duration": -48,
    "start_time": "2021-06-22T09:42:35.795Z"
   },
   {
    "duration": -48,
    "start_time": "2021-06-22T09:42:35.796Z"
   },
   {
    "duration": 541,
    "start_time": "2021-06-22T09:42:56.167Z"
   },
   {
    "duration": 124,
    "start_time": "2021-06-22T09:44:09.746Z"
   },
   {
    "duration": 139,
    "start_time": "2021-06-22T09:53:21.013Z"
   },
   {
    "duration": 348,
    "start_time": "2021-06-22T09:53:28.370Z"
   },
   {
    "duration": 265,
    "start_time": "2021-06-22T09:53:36.720Z"
   },
   {
    "duration": 415,
    "start_time": "2021-06-22T10:00:26.217Z"
   },
   {
    "duration": 384,
    "start_time": "2021-06-22T10:01:26.222Z"
   },
   {
    "duration": 372,
    "start_time": "2021-06-22T10:01:51.803Z"
   },
   {
    "duration": 1170,
    "start_time": "2021-06-22T10:09:25.158Z"
   },
   {
    "duration": 3465,
    "start_time": "2021-06-22T10:11:06.301Z"
   },
   {
    "duration": 466,
    "start_time": "2021-06-22T10:13:43.368Z"
   },
   {
    "duration": 1963,
    "start_time": "2021-06-22T10:14:09.304Z"
   },
   {
    "duration": 373,
    "start_time": "2021-06-22T10:14:33.232Z"
   },
   {
    "duration": 87,
    "start_time": "2021-06-22T10:15:59.927Z"
   },
   {
    "duration": 435,
    "start_time": "2021-06-22T10:16:16.127Z"
   },
   {
    "duration": 92,
    "start_time": "2021-06-22T10:16:28.071Z"
   },
   {
    "duration": 91,
    "start_time": "2021-06-22T10:17:06.310Z"
   },
   {
    "duration": 87,
    "start_time": "2021-06-22T10:18:17.874Z"
   },
   {
    "duration": 92,
    "start_time": "2021-06-22T10:18:56.433Z"
   },
   {
    "duration": 5449,
    "start_time": "2021-06-22T10:51:36.142Z"
   },
   {
    "duration": 968,
    "start_time": "2021-06-22T10:52:02.778Z"
   },
   {
    "duration": 1942,
    "start_time": "2021-06-22T10:53:14.449Z"
   },
   {
    "duration": 511,
    "start_time": "2021-06-22T10:54:31.253Z"
   },
   {
    "duration": 100,
    "start_time": "2021-06-22T10:55:01.681Z"
   },
   {
    "duration": 82,
    "start_time": "2021-06-22T10:58:58.032Z"
   },
   {
    "duration": 96,
    "start_time": "2021-06-22T10:59:38.995Z"
   },
   {
    "duration": 112,
    "start_time": "2021-06-22T11:00:02.251Z"
   },
   {
    "duration": 155,
    "start_time": "2021-06-22T11:00:14.395Z"
   },
   {
    "duration": 91,
    "start_time": "2021-06-22T11:00:23.136Z"
   },
   {
    "duration": 339,
    "start_time": "2021-06-22T19:38:08.026Z"
   },
   {
    "duration": 9,
    "start_time": "2021-06-22T19:44:43.159Z"
   },
   {
    "duration": 390,
    "start_time": "2021-06-22T19:44:43.170Z"
   },
   {
    "duration": 8,
    "start_time": "2021-06-22T19:44:43.562Z"
   },
   {
    "duration": 89,
    "start_time": "2021-06-22T19:44:43.573Z"
   },
   {
    "duration": 7,
    "start_time": "2021-06-22T19:44:43.665Z"
   },
   {
    "duration": 99,
    "start_time": "2021-06-22T19:44:43.675Z"
   },
   {
    "duration": 7,
    "start_time": "2021-06-22T19:44:43.777Z"
   },
   {
    "duration": 108,
    "start_time": "2021-06-22T19:44:43.786Z"
   },
   {
    "duration": 9,
    "start_time": "2021-06-22T19:44:43.897Z"
   },
   {
    "duration": 90,
    "start_time": "2021-06-22T19:44:43.908Z"
   },
   {
    "duration": 8,
    "start_time": "2021-06-22T19:44:44.001Z"
   },
   {
    "duration": 100,
    "start_time": "2021-06-22T19:44:44.011Z"
   },
   {
    "duration": 132,
    "start_time": "2021-06-22T19:44:44.113Z"
   },
   {
    "duration": 287,
    "start_time": "2021-06-22T19:44:44.247Z"
   },
   {
    "duration": 287,
    "start_time": "2021-06-22T19:44:44.537Z"
   },
   {
    "duration": 101,
    "start_time": "2021-06-22T19:44:44.826Z"
   },
   {
    "duration": 109,
    "start_time": "2021-06-22T19:44:44.930Z"
   },
   {
    "duration": 10,
    "start_time": "2021-06-22T19:44:45.041Z"
   },
   {
    "duration": 108,
    "start_time": "2021-06-22T19:49:21.911Z"
   },
   {
    "duration": 82,
    "start_time": "2021-06-22T19:54:11.433Z"
   },
   {
    "duration": 81,
    "start_time": "2021-06-22T19:54:54.287Z"
   },
   {
    "duration": 456,
    "start_time": "2021-06-22T20:00:44.350Z"
   },
   {
    "duration": 372,
    "start_time": "2021-06-22T20:03:51.728Z"
   },
   {
    "duration": 362,
    "start_time": "2021-06-22T20:04:49.934Z"
   },
   {
    "duration": 92,
    "start_time": "2021-06-22T20:05:12.700Z"
   },
   {
    "duration": 394,
    "start_time": "2021-06-22T20:06:41.811Z"
   },
   {
    "duration": 353,
    "start_time": "2021-06-22T20:06:59.160Z"
   },
   {
    "duration": 952,
    "start_time": "2021-06-22T20:30:05.617Z"
   },
   {
    "duration": 316,
    "start_time": "2021-06-22T20:30:06.571Z"
   },
   {
    "duration": 9,
    "start_time": "2021-06-22T20:30:06.890Z"
   },
   {
    "duration": 90,
    "start_time": "2021-06-22T20:30:06.901Z"
   },
   {
    "duration": 7,
    "start_time": "2021-06-22T20:30:06.993Z"
   },
   {
    "duration": 89,
    "start_time": "2021-06-22T20:30:07.003Z"
   },
   {
    "duration": 7,
    "start_time": "2021-06-22T20:30:07.094Z"
   },
   {
    "duration": 88,
    "start_time": "2021-06-22T20:30:07.104Z"
   },
   {
    "duration": 8,
    "start_time": "2021-06-22T20:30:07.196Z"
   },
   {
    "duration": 93,
    "start_time": "2021-06-22T20:30:07.206Z"
   },
   {
    "duration": 7,
    "start_time": "2021-06-22T20:30:07.302Z"
   },
   {
    "duration": 86,
    "start_time": "2021-06-22T20:30:07.312Z"
   },
   {
    "duration": 105,
    "start_time": "2021-06-22T20:30:07.400Z"
   },
   {
    "duration": 334,
    "start_time": "2021-06-22T20:30:07.507Z"
   },
   {
    "duration": 282,
    "start_time": "2021-06-22T20:30:07.844Z"
   },
   {
    "duration": 107,
    "start_time": "2021-06-22T20:30:08.128Z"
   },
   {
    "duration": 97,
    "start_time": "2021-06-22T20:30:08.237Z"
   },
   {
    "duration": 86,
    "start_time": "2021-06-22T20:30:08.336Z"
   },
   {
    "duration": 501,
    "start_time": "2021-06-22T20:31:51.246Z"
   },
   {
    "duration": 401,
    "start_time": "2021-06-22T20:32:06.774Z"
   },
   {
    "duration": 165,
    "start_time": "2021-06-22T20:32:35.484Z"
   },
   {
    "duration": 86,
    "start_time": "2021-06-22T20:32:54.699Z"
   },
   {
    "duration": 688,
    "start_time": "2021-06-22T20:35:14.983Z"
   },
   {
    "duration": 380,
    "start_time": "2021-06-22T20:35:52.028Z"
   },
   {
    "duration": 344,
    "start_time": "2021-06-22T20:43:46.379Z"
   },
   {
    "duration": 148,
    "start_time": "2021-06-22T21:06:26.386Z"
   },
   {
    "duration": 8,
    "start_time": "2021-06-22T21:06:57.607Z"
   },
   {
    "duration": 347,
    "start_time": "2021-06-22T21:20:21.029Z"
   },
   {
    "duration": 349,
    "start_time": "2021-06-22T21:20:32.471Z"
   },
   {
    "duration": 339,
    "start_time": "2021-06-22T21:21:19.181Z"
   },
   {
    "duration": 407,
    "start_time": "2021-06-22T21:21:35.587Z"
   },
   {
    "duration": 355,
    "start_time": "2021-06-22T21:22:33.984Z"
   },
   {
    "duration": 359,
    "start_time": "2021-06-22T21:23:24.359Z"
   },
   {
    "duration": 562,
    "start_time": "2021-06-22T21:28:50.014Z"
   },
   {
    "duration": 365,
    "start_time": "2021-06-22T21:30:36.496Z"
   },
   {
    "duration": 343,
    "start_time": "2021-06-22T21:30:49.282Z"
   },
   {
    "duration": 398,
    "start_time": "2021-06-22T21:30:57.382Z"
   },
   {
    "duration": 365,
    "start_time": "2021-06-22T21:32:51.737Z"
   },
   {
    "duration": 370,
    "start_time": "2021-06-22T21:33:14.590Z"
   },
   {
    "duration": 97,
    "start_time": "2021-06-22T21:33:24.245Z"
   },
   {
    "duration": 79,
    "start_time": "2021-06-22T21:34:02.141Z"
   },
   {
    "duration": 399,
    "start_time": "2021-06-22T21:34:42.690Z"
   },
   {
    "duration": 95,
    "start_time": "2021-06-22T21:35:01.687Z"
   },
   {
    "duration": 99,
    "start_time": "2021-06-22T21:37:20.101Z"
   },
   {
    "duration": 110,
    "start_time": "2021-06-22T21:38:37.905Z"
   },
   {
    "duration": 79,
    "start_time": "2021-06-22T21:39:45.835Z"
   },
   {
    "duration": 79,
    "start_time": "2021-06-22T21:40:32.057Z"
   },
   {
    "duration": 86,
    "start_time": "2021-06-22T21:40:52.403Z"
   },
   {
    "duration": 99,
    "start_time": "2021-06-22T21:41:00.499Z"
   },
   {
    "duration": 86,
    "start_time": "2021-06-22T21:41:05.268Z"
   },
   {
    "duration": 616,
    "start_time": "2021-06-22T21:42:40.070Z"
   },
   {
    "duration": 365,
    "start_time": "2021-06-22T21:49:08.868Z"
   },
   {
    "duration": 345,
    "start_time": "2021-06-22T21:49:42.049Z"
   },
   {
    "duration": 369,
    "start_time": "2021-06-22T21:50:00.795Z"
   },
   {
    "duration": 427,
    "start_time": "2021-06-22T21:50:31.385Z"
   },
   {
    "duration": 372,
    "start_time": "2021-06-22T21:53:01.520Z"
   },
   {
    "duration": 368,
    "start_time": "2021-06-22T21:53:14.014Z"
   },
   {
    "duration": 377,
    "start_time": "2021-06-22T21:53:39.056Z"
   },
   {
    "duration": 356,
    "start_time": "2021-06-22T22:09:57.325Z"
   },
   {
    "duration": 356,
    "start_time": "2021-06-22T22:10:17.958Z"
   },
   {
    "duration": 575,
    "start_time": "2021-06-22T22:10:35.854Z"
   },
   {
    "duration": 792,
    "start_time": "2021-06-22T22:11:53.860Z"
   },
   {
    "duration": 286,
    "start_time": "2021-06-22T22:13:51.252Z"
   },
   {
    "duration": 574,
    "start_time": "2021-06-22T22:15:25.141Z"
   },
   {
    "duration": 587,
    "start_time": "2021-06-22T22:15:43.927Z"
   },
   {
    "duration": 726,
    "start_time": "2021-06-23T07:14:06.921Z"
   },
   {
    "duration": 274,
    "start_time": "2021-06-23T07:14:07.648Z"
   },
   {
    "duration": 6,
    "start_time": "2021-06-23T07:14:07.924Z"
   },
   {
    "duration": 79,
    "start_time": "2021-06-23T07:14:07.931Z"
   },
   {
    "duration": 5,
    "start_time": "2021-06-23T07:14:08.012Z"
   },
   {
    "duration": 91,
    "start_time": "2021-06-23T07:14:08.018Z"
   },
   {
    "duration": 5,
    "start_time": "2021-06-23T07:14:08.110Z"
   },
   {
    "duration": 80,
    "start_time": "2021-06-23T07:14:08.118Z"
   },
   {
    "duration": 5,
    "start_time": "2021-06-23T07:14:08.199Z"
   },
   {
    "duration": 176,
    "start_time": "2021-06-23T07:14:08.206Z"
   },
   {
    "duration": 5,
    "start_time": "2021-06-23T07:14:08.384Z"
   },
   {
    "duration": 6,
    "start_time": "2021-06-23T07:14:08.391Z"
   },
   {
    "duration": 80,
    "start_time": "2021-06-23T07:14:08.399Z"
   },
   {
    "duration": 86,
    "start_time": "2021-06-23T07:14:08.481Z"
   },
   {
    "duration": 186,
    "start_time": "2021-06-23T07:14:08.569Z"
   },
   {
    "duration": 177,
    "start_time": "2021-06-23T07:14:08.756Z"
   },
   {
    "duration": 88,
    "start_time": "2021-06-23T07:14:08.935Z"
   },
   {
    "duration": 82,
    "start_time": "2021-06-23T07:14:09.025Z"
   },
   {
    "duration": 84,
    "start_time": "2021-06-23T07:14:09.108Z"
   },
   {
    "duration": 79,
    "start_time": "2021-06-23T07:14:09.193Z"
   },
   {
    "duration": -20,
    "start_time": "2021-06-23T07:14:09.294Z"
   },
   {
    "duration": -21,
    "start_time": "2021-06-23T07:14:09.296Z"
   },
   {
    "duration": -22,
    "start_time": "2021-06-23T07:14:09.298Z"
   },
   {
    "duration": -28,
    "start_time": "2021-06-23T07:14:09.305Z"
   },
   {
    "duration": 373,
    "start_time": "2021-06-23T07:21:40.198Z"
   },
   {
    "duration": 272,
    "start_time": "2021-06-23T07:22:44.438Z"
   },
   {
    "duration": 513,
    "start_time": "2021-06-23T07:33:07.056Z"
   },
   {
    "duration": 288,
    "start_time": "2021-06-23T07:46:38.343Z"
   },
   {
    "duration": 253,
    "start_time": "2021-06-23T07:48:53.693Z"
   },
   {
    "duration": 248,
    "start_time": "2021-06-23T07:49:54.019Z"
   },
   {
    "duration": 258,
    "start_time": "2021-06-23T07:50:25.060Z"
   },
   {
    "duration": 243,
    "start_time": "2021-06-23T07:51:31.975Z"
   },
   {
    "duration": 245,
    "start_time": "2021-06-23T07:52:03.343Z"
   },
   {
    "duration": 266,
    "start_time": "2021-06-23T07:52:48.606Z"
   },
   {
    "duration": 290,
    "start_time": "2021-06-23T07:53:59.920Z"
   },
   {
    "duration": 275,
    "start_time": "2021-06-23T07:54:16.351Z"
   },
   {
    "duration": 258,
    "start_time": "2021-06-23T07:55:33.677Z"
   },
   {
    "duration": 11643,
    "start_time": "2021-06-23T07:55:40.617Z"
   },
   {
    "duration": 10656,
    "start_time": "2021-06-23T07:56:12.481Z"
   },
   {
    "duration": 15207,
    "start_time": "2021-06-23T07:58:52.367Z"
   },
   {
    "duration": 9219,
    "start_time": "2021-06-23T07:59:38.384Z"
   },
   {
    "duration": 8151,
    "start_time": "2021-06-23T07:59:58.281Z"
   },
   {
    "duration": 7783,
    "start_time": "2021-06-23T08:00:24.809Z"
   },
   {
    "duration": 706,
    "start_time": "2021-06-23T09:17:19.022Z"
   },
   {
    "duration": 305,
    "start_time": "2021-06-23T09:17:19.730Z"
   },
   {
    "duration": 6,
    "start_time": "2021-06-23T09:17:20.037Z"
   },
   {
    "duration": 98,
    "start_time": "2021-06-23T09:17:20.045Z"
   },
   {
    "duration": 5,
    "start_time": "2021-06-23T09:17:20.145Z"
   },
   {
    "duration": 84,
    "start_time": "2021-06-23T09:17:20.152Z"
   },
   {
    "duration": 5,
    "start_time": "2021-06-23T09:17:20.237Z"
   },
   {
    "duration": 74,
    "start_time": "2021-06-23T09:17:20.244Z"
   },
   {
    "duration": 6,
    "start_time": "2021-06-23T09:17:20.320Z"
   },
   {
    "duration": 175,
    "start_time": "2021-06-23T09:17:20.328Z"
   },
   {
    "duration": 6,
    "start_time": "2021-06-23T09:17:20.504Z"
   },
   {
    "duration": 7,
    "start_time": "2021-06-23T09:17:20.511Z"
   },
   {
    "duration": 74,
    "start_time": "2021-06-23T09:17:20.520Z"
   },
   {
    "duration": 81,
    "start_time": "2021-06-23T09:17:20.596Z"
   },
   {
    "duration": 194,
    "start_time": "2021-06-23T09:17:20.679Z"
   },
   {
    "duration": 178,
    "start_time": "2021-06-23T09:17:20.874Z"
   },
   {
    "duration": 84,
    "start_time": "2021-06-23T09:17:21.053Z"
   },
   {
    "duration": 107,
    "start_time": "2021-06-23T09:17:21.139Z"
   },
   {
    "duration": 6672,
    "start_time": "2021-06-23T09:17:21.247Z"
   },
   {
    "duration": 325,
    "start_time": "2021-06-23T09:17:27.921Z"
   },
   {
    "duration": -320,
    "start_time": "2021-06-23T09:17:28.568Z"
   },
   {
    "duration": -322,
    "start_time": "2021-06-23T09:17:28.571Z"
   },
   {
    "duration": -323,
    "start_time": "2021-06-23T09:17:28.573Z"
   },
   {
    "duration": -324,
    "start_time": "2021-06-23T09:17:28.575Z"
   },
   {
    "duration": -326,
    "start_time": "2021-06-23T09:17:28.577Z"
   },
   {
    "duration": -326,
    "start_time": "2021-06-23T09:17:28.578Z"
   },
   {
    "duration": 74,
    "start_time": "2021-06-23T09:55:14.801Z"
   },
   {
    "duration": 83,
    "start_time": "2021-06-23T09:55:20.553Z"
   },
   {
    "duration": 250,
    "start_time": "2021-06-23T10:00:23.111Z"
   },
   {
    "duration": 111,
    "start_time": "2021-06-23T10:00:57.419Z"
   },
   {
    "duration": 124,
    "start_time": "2021-06-23T10:01:15.743Z"
   },
   {
    "duration": 181,
    "start_time": "2021-06-23T10:10:59.817Z"
   },
   {
    "duration": 961,
    "start_time": "2021-06-23T10:50:14.730Z"
   },
   {
    "duration": 448,
    "start_time": "2021-06-23T10:50:15.693Z"
   },
   {
    "duration": 89,
    "start_time": "2021-06-23T10:50:16.143Z"
   },
   {
    "duration": 111,
    "start_time": "2021-06-23T10:50:16.233Z"
   },
   {
    "duration": 125,
    "start_time": "2021-06-23T10:50:16.346Z"
   },
   {
    "duration": 126,
    "start_time": "2021-06-23T10:50:16.473Z"
   },
   {
    "duration": 112,
    "start_time": "2021-06-23T10:50:16.600Z"
   },
   {
    "duration": 200,
    "start_time": "2021-06-23T10:50:16.714Z"
   },
   {
    "duration": 232,
    "start_time": "2021-06-23T10:50:16.916Z"
   },
   {
    "duration": 191,
    "start_time": "2021-06-23T10:50:17.150Z"
   },
   {
    "duration": 87,
    "start_time": "2021-06-23T10:50:17.342Z"
   },
   {
    "duration": 98,
    "start_time": "2021-06-23T10:50:17.431Z"
   },
   {
    "duration": 9036,
    "start_time": "2021-06-23T10:50:17.530Z"
   },
   {
    "duration": 356,
    "start_time": "2021-06-23T10:50:26.567Z"
   },
   {
    "duration": -295,
    "start_time": "2021-06-23T10:50:27.220Z"
   },
   {
    "duration": -296,
    "start_time": "2021-06-23T10:50:27.222Z"
   },
   {
    "duration": -301,
    "start_time": "2021-06-23T10:50:27.228Z"
   },
   {
    "duration": -303,
    "start_time": "2021-06-23T10:50:27.231Z"
   },
   {
    "duration": -304,
    "start_time": "2021-06-23T10:50:27.233Z"
   },
   {
    "duration": -305,
    "start_time": "2021-06-23T10:50:27.235Z"
   },
   {
    "duration": 79,
    "start_time": "2021-06-23T11:01:11.169Z"
   },
   {
    "duration": 730,
    "start_time": "2021-06-23T13:47:30.559Z"
   },
   {
    "duration": 344,
    "start_time": "2021-06-23T13:47:31.291Z"
   },
   {
    "duration": 74,
    "start_time": "2021-06-23T13:47:31.637Z"
   },
   {
    "duration": 166,
    "start_time": "2021-06-23T13:47:31.713Z"
   },
   {
    "duration": 74,
    "start_time": "2021-06-23T13:47:31.880Z"
   },
   {
    "duration": 74,
    "start_time": "2021-06-23T13:47:31.955Z"
   },
   {
    "duration": 87,
    "start_time": "2021-06-23T13:47:32.031Z"
   },
   {
    "duration": 119,
    "start_time": "2021-06-23T13:47:32.120Z"
   },
   {
    "duration": 238,
    "start_time": "2021-06-23T13:47:32.241Z"
   },
   {
    "duration": 199,
    "start_time": "2021-06-23T13:47:32.481Z"
   },
   {
    "duration": 75,
    "start_time": "2021-06-23T13:47:32.684Z"
   },
   {
    "duration": 81,
    "start_time": "2021-06-23T13:47:32.761Z"
   },
   {
    "duration": 75,
    "start_time": "2021-06-23T13:47:32.844Z"
   },
   {
    "duration": 753,
    "start_time": "2021-06-24T08:38:50.660Z"
   },
   {
    "duration": 267,
    "start_time": "2021-06-24T08:38:51.415Z"
   },
   {
    "duration": 85,
    "start_time": "2021-06-24T08:38:51.683Z"
   },
   {
    "duration": 72,
    "start_time": "2021-06-24T08:38:51.769Z"
   },
   {
    "duration": 72,
    "start_time": "2021-06-24T08:38:51.842Z"
   },
   {
    "duration": 78,
    "start_time": "2021-06-24T08:38:51.916Z"
   },
   {
    "duration": 74,
    "start_time": "2021-06-24T08:38:51.996Z"
   },
   {
    "duration": 99,
    "start_time": "2021-06-24T08:38:52.072Z"
   },
   {
    "duration": 244,
    "start_time": "2021-06-24T08:38:52.174Z"
   },
   {
    "duration": 203,
    "start_time": "2021-06-24T08:38:52.420Z"
   },
   {
    "duration": 86,
    "start_time": "2021-06-24T08:38:52.625Z"
   },
   {
    "duration": 90,
    "start_time": "2021-06-24T08:38:52.713Z"
   },
   {
    "duration": 86,
    "start_time": "2021-06-24T08:38:52.805Z"
   },
   {
    "duration": 653,
    "start_time": "2021-06-24T08:40:10.629Z"
   },
   {
    "duration": 279,
    "start_time": "2021-06-24T08:40:11.285Z"
   },
   {
    "duration": 75,
    "start_time": "2021-06-24T08:40:11.566Z"
   },
   {
    "duration": 74,
    "start_time": "2021-06-24T08:40:11.643Z"
   },
   {
    "duration": 74,
    "start_time": "2021-06-24T08:40:11.719Z"
   },
   {
    "duration": 75,
    "start_time": "2021-06-24T08:40:11.795Z"
   },
   {
    "duration": 74,
    "start_time": "2021-06-24T08:40:11.871Z"
   },
   {
    "duration": 107,
    "start_time": "2021-06-24T08:40:11.947Z"
   },
   {
    "duration": 245,
    "start_time": "2021-06-24T08:40:12.056Z"
   },
   {
    "duration": 196,
    "start_time": "2021-06-24T08:40:12.303Z"
   },
   {
    "duration": 77,
    "start_time": "2021-06-24T08:40:12.500Z"
   },
   {
    "duration": 87,
    "start_time": "2021-06-24T08:40:12.579Z"
   },
   {
    "duration": 79,
    "start_time": "2021-06-24T08:40:12.667Z"
   },
   {
    "duration": 107,
    "start_time": "2021-06-24T08:41:00.777Z"
   },
   {
    "duration": 93,
    "start_time": "2021-06-24T09:00:16.476Z"
   },
   {
    "duration": 628,
    "start_time": "2021-06-24T10:01:47.847Z"
   },
   {
    "duration": 594,
    "start_time": "2021-06-24T10:01:48.477Z"
   },
   {
    "duration": 89,
    "start_time": "2021-06-24T10:01:49.073Z"
   },
   {
    "duration": 75,
    "start_time": "2021-06-24T10:01:49.164Z"
   },
   {
    "duration": 77,
    "start_time": "2021-06-24T10:01:49.240Z"
   },
   {
    "duration": 81,
    "start_time": "2021-06-24T10:01:49.319Z"
   },
   {
    "duration": 71,
    "start_time": "2021-06-24T10:01:49.403Z"
   },
   {
    "duration": 79,
    "start_time": "2021-06-24T10:01:49.476Z"
   },
   {
    "duration": 126,
    "start_time": "2021-06-24T10:01:49.556Z"
   },
   {
    "duration": 251,
    "start_time": "2021-06-24T10:01:49.684Z"
   },
   {
    "duration": 190,
    "start_time": "2021-06-24T10:01:49.937Z"
   },
   {
    "duration": 99,
    "start_time": "2021-06-24T10:01:50.129Z"
   },
   {
    "duration": 168,
    "start_time": "2021-06-24T10:01:50.230Z"
   },
   {
    "duration": 75,
    "start_time": "2021-06-24T10:01:50.400Z"
   },
   {
    "duration": 349,
    "start_time": "2021-06-24T10:06:07.886Z"
   },
   {
    "duration": 260,
    "start_time": "2021-06-24T10:06:26.679Z"
   },
   {
    "duration": 120,
    "start_time": "2021-06-24T10:06:48.903Z"
   },
   {
    "duration": 204,
    "start_time": "2021-06-24T10:07:50.083Z"
   },
   {
    "duration": 189,
    "start_time": "2021-06-24T10:08:24.835Z"
   },
   {
    "duration": 661,
    "start_time": "2021-06-24T10:09:26.219Z"
   },
   {
    "duration": 249,
    "start_time": "2021-06-24T10:09:26.881Z"
   },
   {
    "duration": 72,
    "start_time": "2021-06-24T10:09:27.132Z"
   },
   {
    "duration": 71,
    "start_time": "2021-06-24T10:09:27.206Z"
   },
   {
    "duration": 83,
    "start_time": "2021-06-24T10:09:27.279Z"
   },
   {
    "duration": 93,
    "start_time": "2021-06-24T10:09:27.363Z"
   },
   {
    "duration": 74,
    "start_time": "2021-06-24T10:09:27.457Z"
   },
   {
    "duration": 95,
    "start_time": "2021-06-24T10:09:27.532Z"
   },
   {
    "duration": 126,
    "start_time": "2021-06-24T10:09:27.629Z"
   },
   {
    "duration": 237,
    "start_time": "2021-06-24T10:09:27.757Z"
   },
   {
    "duration": 193,
    "start_time": "2021-06-24T10:09:27.996Z"
   },
   {
    "duration": 70,
    "start_time": "2021-06-24T10:09:28.190Z"
   },
   {
    "duration": 84,
    "start_time": "2021-06-24T10:09:28.262Z"
   },
   {
    "duration": 72,
    "start_time": "2021-06-24T10:09:28.348Z"
   },
   {
    "duration": 58,
    "start_time": "2021-06-24T10:22:10.037Z"
   },
   {
    "duration": 685,
    "start_time": "2021-06-24T10:24:07.211Z"
   },
   {
    "duration": 297,
    "start_time": "2021-06-24T10:24:07.897Z"
   },
   {
    "duration": 79,
    "start_time": "2021-06-24T10:24:08.197Z"
   },
   {
    "duration": 94,
    "start_time": "2021-06-24T10:24:08.279Z"
   },
   {
    "duration": 89,
    "start_time": "2021-06-24T10:24:08.375Z"
   },
   {
    "duration": 78,
    "start_time": "2021-06-24T10:24:08.466Z"
   },
   {
    "duration": 79,
    "start_time": "2021-06-24T10:24:08.546Z"
   },
   {
    "duration": 76,
    "start_time": "2021-06-24T10:24:08.627Z"
   },
   {
    "duration": 159,
    "start_time": "2021-06-24T10:24:08.705Z"
   },
   {
    "duration": 246,
    "start_time": "2021-06-24T10:24:08.866Z"
   },
   {
    "duration": 211,
    "start_time": "2021-06-24T10:24:09.114Z"
   },
   {
    "duration": 77,
    "start_time": "2021-06-24T10:24:09.326Z"
   },
   {
    "duration": 87,
    "start_time": "2021-06-24T10:24:09.405Z"
   },
   {
    "duration": 83,
    "start_time": "2021-06-24T10:24:09.494Z"
   },
   {
    "duration": 942,
    "start_time": "2021-06-24T11:25:32.552Z"
   },
   {
    "duration": 123,
    "start_time": "2021-06-24T11:25:33.497Z"
   },
   {
    "duration": 17,
    "start_time": "2021-06-24T11:25:33.623Z"
   },
   {
    "duration": 16,
    "start_time": "2021-06-24T11:25:33.642Z"
   },
   {
    "duration": 15,
    "start_time": "2021-06-24T11:25:33.661Z"
   },
   {
    "duration": 44,
    "start_time": "2021-06-24T11:25:33.678Z"
   },
   {
    "duration": 21,
    "start_time": "2021-06-24T11:25:33.724Z"
   },
   {
    "duration": 19,
    "start_time": "2021-06-24T11:25:33.749Z"
   },
   {
    "duration": 73,
    "start_time": "2021-06-24T11:25:33.770Z"
   },
   {
    "duration": 336,
    "start_time": "2021-06-24T11:25:33.845Z"
   },
   {
    "duration": 299,
    "start_time": "2021-06-24T11:25:34.183Z"
   },
   {
    "duration": 20,
    "start_time": "2021-06-24T11:25:34.486Z"
   },
   {
    "duration": 43,
    "start_time": "2021-06-24T11:25:34.508Z"
   },
   {
    "duration": 29,
    "start_time": "2021-06-24T11:25:34.553Z"
   }
  ],
  "kernelspec": {
   "display_name": "Python 3",
   "language": "python",
   "name": "python3"
  },
  "language_info": {
   "codemirror_mode": {
    "name": "ipython",
    "version": 3
   },
   "file_extension": ".py",
   "mimetype": "text/x-python",
   "name": "python",
   "nbconvert_exporter": "python",
   "pygments_lexer": "ipython3",
   "version": "3.8.8"
  },
  "toc": {
   "base_numbering": 1,
   "nav_menu": {},
   "number_sections": false,
   "sideBar": true,
   "skip_h1_title": true,
   "title_cell": "Table of Contents",
   "title_sidebar": "Contents",
   "toc_cell": false,
   "toc_position": {},
   "toc_section_display": true,
   "toc_window_display": false
  }
 },
 "nbformat": 4,
 "nbformat_minor": 2
}
